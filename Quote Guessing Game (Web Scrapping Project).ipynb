{
 "cells": [
  {
   "cell_type": "markdown",
   "id": "81b83d4f-7aab-4557-8164-14dcbc0af5c0",
   "metadata": {},
   "source": [
    "# Quote Guessing Game"
   ]
  },
  {
   "cell_type": "markdown",
   "id": "ad9dc337-c3ec-447a-90a6-779a0f348377",
   "metadata": {},
   "source": [
    "## Introduction\n",
    "\n",
    "In this notebook, we scrape quotes from [quotes.toscrape.com](https://quotes.toscrape.com) and use them to create a guessing game where the player guesses the author of the quote. The game score is saved in a file in your Downloads folder after each session."
   ]
  },
  {
   "cell_type": "markdown",
   "id": "215f29d6-ba99-4a0b-943a-ba375bc2b650",
   "metadata": {},
   "source": [
    "## Importing Libraries"
   ]
  },
  {
   "cell_type": "code",
   "execution_count": 1,
   "id": "f0f953c9-76ad-4c09-aff7-40f1d562c686",
   "metadata": {},
   "outputs": [],
   "source": [
    "import os\n",
    "import random\n",
    "import requests\n",
    "import pandas as pd\n",
    "from bs4 import BeautifulSoup\n",
    "from datetime import datetime"
   ]
  },
  {
   "cell_type": "markdown",
   "id": "a0504a67-400b-4aa6-8b95-db81b92a5648",
   "metadata": {},
   "source": [
    "## Web Scraping"
   ]
  },
  {
   "cell_type": "code",
   "execution_count": 2,
   "id": "0585a116-c2f5-43c0-b39d-b7bbec286882",
   "metadata": {},
   "outputs": [],
   "source": [
    "#Scrapping Quotes from random page of website\n",
    "def scrappingQuoteDetails():\n",
    "    pageNum = random.randint(1,10)\n",
    "    url = f'https://quotes.toscrape.com'\n",
    "    response = requests.get(f'{url}/page/{pageNum}/', headers = {\"User-Agent\":\"Mozilla/5.0 (Windows NT 10.0; Win64; x64) AppleWebKit/537.36 (KHTML, like Gecko) Chrome/84.0.4147.105 Safari/537.36\"})\n",
    "    data = response.content\n",
    "    soup = BeautifulSoup(data, 'html.parser')\n",
    "    \n",
    "    randQuote = []\n",
    "    quoteBy = []\n",
    "    authorLink = []\n",
    "    \n",
    "    quotes = soup.findAll('div', class_='quote')\n",
    "    for quote in quotes:\n",
    "        randQuote.append(quote.find(class_='text').text.strip(\"“”\"))\n",
    "        quoteBy.append(quote.find(class_='author').text)\n",
    "        authorLink.append(quote.find('a')['href'])\n",
    "\n",
    "    return url, randQuote, quoteBy, authorLink\n",
    "    \n",
    "#Selecting random quote to display from the scraped quotes & scrapping author name and details\n",
    "def quoteForDisplay():\n",
    "    url, randQuote, quoteBy, authorLink = scrappingQuoteDetails()\n",
    "    \n",
    "    quoteToDisplay = random.randint(0,9)\n",
    "    quote = randQuote[quoteToDisplay]\n",
    "    auth = quoteBy[quoteToDisplay]\n",
    "    \n",
    "    authLink = f'{url}{authorLink[quoteToDisplay]}'\n",
    "    authPageResponse = requests.get(authLink)\n",
    "    authData = authPageResponse.content\n",
    "    soup = BeautifulSoup(authData, 'html.parser')\n",
    "    \n",
    "    authBornDate = soup.find('span', class_='author-born-date').text\n",
    "    authBirthPlace = soup.find('span', class_='author-born-location').text\n",
    "    \n",
    "    return quote, auth, authBornDate, authBirthPlace"
   ]
  },
  {
   "cell_type": "markdown",
   "id": "4c169922-1d3e-45f7-a475-e0ef9352daa0",
   "metadata": {},
   "source": [
    "## Game Flow & Dataframe"
   ]
  },
  {
   "cell_type": "code",
   "execution_count": 3,
   "id": "99b3c40d-ee4f-4f75-b332-498cfdfaa413",
   "metadata": {},
   "outputs": [],
   "source": [
    "#Getting first letter of last name\n",
    "def lastNameHint(auth):\n",
    "    try:\n",
    "        return (auth.split(' ')[2])[0]\n",
    "    except:\n",
    "        return (auth.split(' ')[1])[0]\n",
    "\n",
    "#Getting time the game was played\n",
    "def timeNow():\n",
    "    now = datetime.now()\n",
    "    return now.strftime(\"%d/%b/%y %I:%M %p\")\n",
    "\n",
    "#Declearing game won or lost\n",
    "def wonOrlost(tries):\n",
    "    if tries == 0:\n",
    "        return 'Lost'\n",
    "    else:\n",
    "        return 'Won'"
   ]
  },
  {
   "cell_type": "code",
   "execution_count": 4,
   "id": "80d91fdc-f8dc-40f1-b3dd-a5862169a0fe",
   "metadata": {},
   "outputs": [
    {
     "name": "stdout",
     "output_type": "stream",
     "text": [
      "Who said this? I am good, but not an angel. I do sin, but I am not the devil. I am just a small girl in a big world trying to find someone to love.\n"
     ]
    },
    {
     "name": "stdin",
     "output_type": "stream",
     "text": [
      "Guess:  jane austen\n"
     ]
    },
    {
     "name": "stdout",
     "output_type": "stream",
     "text": [
      "\n",
      "\n",
      "No Problem! Try Again | 5 attempts remaining\n"
     ]
    },
    {
     "name": "stdin",
     "output_type": "stream",
     "text": [
      "Guess:  j.k. rowling\n"
     ]
    },
    {
     "name": "stdout",
     "output_type": "stream",
     "text": [
      "\n",
      "\n",
      "No Problem! Try Again | 4 attempts remaining\n"
     ]
    },
    {
     "name": "stdin",
     "output_type": "stream",
     "text": [
      "Guess:  ernest hemingway\n"
     ]
    },
    {
     "name": "stdout",
     "output_type": "stream",
     "text": [
      "\n",
      "\n",
      "Need a clue? The author was born on June 01, 1926 in The United States | 3 attempts remaining\n"
     ]
    },
    {
     "name": "stdin",
     "output_type": "stream",
     "text": [
      "Guess:  sylvia plath\n"
     ]
    },
    {
     "name": "stdout",
     "output_type": "stream",
     "text": [
      "\n",
      "\n",
      "Here’s a clue: Author's first name starts with \"M\" | 2 attempts remaining\n"
     ]
    },
    {
     "name": "stdin",
     "output_type": "stream",
     "text": [
      "Guess:  mary shelley\n"
     ]
    },
    {
     "name": "stdout",
     "output_type": "stream",
     "text": [
      "\n",
      "\n",
      "Here’s a clue: Author's last name starts with \"M\" | 1 attempt remaining\n"
     ]
    },
    {
     "name": "stdin",
     "output_type": "stream",
     "text": [
      "Guess:  margaret mitchell\n"
     ]
    },
    {
     "name": "stdout",
     "output_type": "stream",
     "text": [
      "\n",
      "\n",
      "The correct answer was \"Marilyn Monroe\" Better luck next time!| 0 attempts remaining\n",
      "\n",
      "\n"
     ]
    },
    {
     "name": "stdin",
     "output_type": "stream",
     "text": [
      "Do you want to play again (Y/N): y\n"
     ]
    },
    {
     "name": "stdout",
     "output_type": "stream",
     "text": [
      "\n",
      "\n",
      "Who said this? The trouble with having an open mind, of course, is that people will insist on coming along and trying to put things in it.\n"
     ]
    },
    {
     "name": "stdin",
     "output_type": "stream",
     "text": [
      "Guess:  terry pratchett\n"
     ]
    },
    {
     "name": "stdout",
     "output_type": "stream",
     "text": [
      "\n",
      "\n",
      "Congrats You Won! | 5 attempts remaining\n",
      "\n",
      "\n"
     ]
    },
    {
     "name": "stdin",
     "output_type": "stream",
     "text": [
      "Do you want to play again (Y/N): n\n"
     ]
    },
    {
     "name": "stdout",
     "output_type": "stream",
     "text": [
      "\n",
      "\n",
      "GAME TERMINATED\n"
     ]
    }
   ],
   "source": [
    "#Dictionary to store game info\n",
    "table = {'Time': [], 'Won-Lost': [], 'Attempts Remaining':[]}\n",
    "\n",
    "#While loop to run game as many times as player wants\n",
    "wantToPlay = 'y'\n",
    "while wantToPlay in ['y', 'Y']:\n",
    "    \n",
    "    quote, auth, authBornDate, authBirthPlace = quoteForDisplay()\n",
    "    \n",
    "    print(f'Who said this? {quote}')\n",
    "    \n",
    "    for tries in range(5,-1,-1):\n",
    "        \n",
    "        answer = input('Guess: ')\n",
    "        print('\\n')\n",
    "        \n",
    "        if answer == auth or answer == auth.lower():\n",
    "            print(f'Congrats You Won! | {tries} attempts remaining')\n",
    "            break\n",
    "              \n",
    "        elif tries == 3:\n",
    "            print(f'Need a clue? The author was born on {authBornDate} {authBirthPlace} | {tries} attempts remaining')\n",
    "            \n",
    "        elif tries == 2:\n",
    "            print(f'Here’s a clue: Author\\'s first name starts with \\\"{auth[0]}\\\" | {tries} attempts remaining')\n",
    "    \n",
    "        elif tries == 1:\n",
    "            print(f'Here’s a clue: Author\\'s last name starts with \\\"{lastNameHint(auth)}\\\" | {tries} attempt remaining')\n",
    "    \n",
    "        elif tries == 0:\n",
    "            print(f'The correct answer was \\\"{auth}\\\" Better luck next time!| {tries} attempts remaining')\n",
    "            \n",
    "        else:\n",
    "            print(f'No Problem! Try Again | {tries} attempts remaining')\n",
    "            continue\n",
    "            \n",
    "    #Appending time, game winnig status & remaining attempts to dictionary \n",
    "    table['Time'].append(timeNow())\n",
    "    table['Won-Lost'].append(wonOrlost(tries))\n",
    "    table['Attempts Remaining'].append(tries)\n",
    "\n",
    "    print('\\n')\n",
    "    #Asking if player wants to contunue\n",
    "    wantToPlay = input('Do you want to play again (Y/N):')\n",
    "    while wantToPlay not in ['n', 'N', 'y', 'Y']:\n",
    "        print('INVALID RESPONSE')\n",
    "        wantToPlay = input('Do you want to play again (Y/N):')\n",
    "    print('\\n')\n",
    "\n",
    "#After termination storing dictionary as df       \n",
    "print('GAME TERMINATED')\n",
    "df = pd.DataFrame(table)"
   ]
  },
  {
   "cell_type": "markdown",
   "id": "43328570-05fb-4aa8-924e-98e19e813818",
   "metadata": {},
   "source": [
    "## Saving Game Scores to Downloads Folder"
   ]
  },
  {
   "cell_type": "code",
   "execution_count": 5,
   "id": "4d648fe6-9f14-4c24-ae66-3fbd4eccdd2e",
   "metadata": {},
   "outputs": [],
   "source": [
    "#Storing the csv file in downloads folder\n",
    "#If you want to change the location of csv file, change the path variable to desired directory\n",
    "path = r'Downloads'\n",
    "os.makedirs(path, exist_ok=True)\n",
    "csv_file = os.path.join(path, 'Quotes Scrapping Game Data.csv')\n",
    "\n",
    "try:\n",
    "    with open(csv_file, 'x') as file:\n",
    "        df.to_csv(file, index=False)\n",
    "except FileExistsError:\n",
    "    df.to_csv(csv_file, mode='a', header=False, index=False)"
   ]
  },
  {
   "cell_type": "markdown",
   "id": "2180ff52-2ec2-432f-9cda-e8c52201dad2",
   "metadata": {},
   "source": [
    "## Conclusion\n",
    "\n",
    "In this project, we developed a Quote Guessing Game that scrapes quotes from [quotes.toscrape.com](https://quotes.toscrape.com) using **BeautifulSoup**. Players have 5 attempts to guess the author of a randomly presented quote, with hints provided on the 3rd, 4th & 5th tries. After all attempts, the game asks if the player wants to continue or terminate. Scores are saved locally in a CSV file in the user's **Downloads folder** for future reference. This project demonstrates web scraping, game logic, and data storage."
   ]
  }
 ],
 "metadata": {
  "kernelspec": {
   "display_name": "Python 3 (ipykernel)",
   "language": "python",
   "name": "python3"
  },
  "language_info": {
   "codemirror_mode": {
    "name": "ipython",
    "version": 3
   },
   "file_extension": ".py",
   "mimetype": "text/x-python",
   "name": "python",
   "nbconvert_exporter": "python",
   "pygments_lexer": "ipython3",
   "version": "3.12.4"
  }
 },
 "nbformat": 4,
 "nbformat_minor": 5
}
